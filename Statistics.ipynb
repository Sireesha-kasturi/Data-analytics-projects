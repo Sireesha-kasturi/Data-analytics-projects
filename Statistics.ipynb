{
 "cells": [
  {
   "cell_type": "markdown",
   "id": "d36fa755-a1cc-485a-8db7-464971f1169d",
   "metadata": {},
   "source": [
    "# Statistics Assignment"
   ]
  },
  {
   "cell_type": "markdown",
   "id": "49bfd048-d99d-4d93-9828-1d0243008413",
   "metadata": {},
   "source": [
    "## Sireesha"
   ]
  },
  {
   "cell_type": "code",
   "execution_count": 205,
   "id": "d1edefc5-0b7e-4f29-a346-9a7128fd4a12",
   "metadata": {},
   "outputs": [],
   "source": [
    "import numpy as np\n",
    "import pandas as pd\n",
    "import matplotlib.pyplot as plt\n",
    "import seaborn as sns\n",
    "import statistics as stat\n",
    "import random\n",
    "import warnings\n",
    "warnings.filterwarnings('ignore')\n"
   ]
  },
  {
   "cell_type": "code",
   "execution_count": null,
   "id": "c2a2836a-1a48-4af6-801e-77f44b0ec937",
   "metadata": {},
   "outputs": [],
   "source": [
    "# loading Diamond dataset"
   ]
  },
  {
   "cell_type": "code",
   "execution_count": 207,
   "id": "259a1435-9aed-4f2c-a5c7-b802a6b3fafc",
   "metadata": {},
   "outputs": [
    {
     "data": {
      "text/html": [
       "<div>\n",
       "<style scoped>\n",
       "    .dataframe tbody tr th:only-of-type {\n",
       "        vertical-align: middle;\n",
       "    }\n",
       "\n",
       "    .dataframe tbody tr th {\n",
       "        vertical-align: top;\n",
       "    }\n",
       "\n",
       "    .dataframe thead th {\n",
       "        text-align: right;\n",
       "    }\n",
       "</style>\n",
       "<table border=\"1\" class=\"dataframe\">\n",
       "  <thead>\n",
       "    <tr style=\"text-align: right;\">\n",
       "      <th></th>\n",
       "      <th>carat</th>\n",
       "      <th>cut</th>\n",
       "      <th>color</th>\n",
       "      <th>clarity</th>\n",
       "      <th>depth</th>\n",
       "      <th>table</th>\n",
       "      <th>weight</th>\n",
       "      <th>size</th>\n",
       "      <th>price</th>\n",
       "    </tr>\n",
       "  </thead>\n",
       "  <tbody>\n",
       "    <tr>\n",
       "      <th>0</th>\n",
       "      <td>0.23</td>\n",
       "      <td>Ideal</td>\n",
       "      <td>E</td>\n",
       "      <td>SI2</td>\n",
       "      <td>61.5</td>\n",
       "      <td>55.0</td>\n",
       "      <td>3.95</td>\n",
       "      <td>3.98</td>\n",
       "      <td>326</td>\n",
       "    </tr>\n",
       "    <tr>\n",
       "      <th>1</th>\n",
       "      <td>0.21</td>\n",
       "      <td>Premium</td>\n",
       "      <td>E</td>\n",
       "      <td>SI1</td>\n",
       "      <td>59.8</td>\n",
       "      <td>61.0</td>\n",
       "      <td>3.89</td>\n",
       "      <td>3.84</td>\n",
       "      <td>326</td>\n",
       "    </tr>\n",
       "    <tr>\n",
       "      <th>2</th>\n",
       "      <td>0.23</td>\n",
       "      <td>Good</td>\n",
       "      <td>E</td>\n",
       "      <td>VS1</td>\n",
       "      <td>56.9</td>\n",
       "      <td>65.0</td>\n",
       "      <td>4.05</td>\n",
       "      <td>4.07</td>\n",
       "      <td>327</td>\n",
       "    </tr>\n",
       "    <tr>\n",
       "      <th>3</th>\n",
       "      <td>0.29</td>\n",
       "      <td>Premium</td>\n",
       "      <td>I</td>\n",
       "      <td>VS2</td>\n",
       "      <td>62.4</td>\n",
       "      <td>58.0</td>\n",
       "      <td>4.20</td>\n",
       "      <td>4.23</td>\n",
       "      <td>334</td>\n",
       "    </tr>\n",
       "    <tr>\n",
       "      <th>4</th>\n",
       "      <td>0.31</td>\n",
       "      <td>Good</td>\n",
       "      <td>J</td>\n",
       "      <td>SI2</td>\n",
       "      <td>63.3</td>\n",
       "      <td>58.0</td>\n",
       "      <td>4.34</td>\n",
       "      <td>4.35</td>\n",
       "      <td>335</td>\n",
       "    </tr>\n",
       "    <tr>\n",
       "      <th>...</th>\n",
       "      <td>...</td>\n",
       "      <td>...</td>\n",
       "      <td>...</td>\n",
       "      <td>...</td>\n",
       "      <td>...</td>\n",
       "      <td>...</td>\n",
       "      <td>...</td>\n",
       "      <td>...</td>\n",
       "      <td>...</td>\n",
       "    </tr>\n",
       "    <tr>\n",
       "      <th>53935</th>\n",
       "      <td>0.72</td>\n",
       "      <td>Ideal</td>\n",
       "      <td>D</td>\n",
       "      <td>SI1</td>\n",
       "      <td>60.8</td>\n",
       "      <td>57.0</td>\n",
       "      <td>5.75</td>\n",
       "      <td>5.76</td>\n",
       "      <td>2757</td>\n",
       "    </tr>\n",
       "    <tr>\n",
       "      <th>53936</th>\n",
       "      <td>0.72</td>\n",
       "      <td>Good</td>\n",
       "      <td>D</td>\n",
       "      <td>SI1</td>\n",
       "      <td>63.1</td>\n",
       "      <td>55.0</td>\n",
       "      <td>5.69</td>\n",
       "      <td>5.75</td>\n",
       "      <td>2757</td>\n",
       "    </tr>\n",
       "    <tr>\n",
       "      <th>53937</th>\n",
       "      <td>0.70</td>\n",
       "      <td>Very Good</td>\n",
       "      <td>D</td>\n",
       "      <td>SI1</td>\n",
       "      <td>62.8</td>\n",
       "      <td>60.0</td>\n",
       "      <td>5.66</td>\n",
       "      <td>5.68</td>\n",
       "      <td>2757</td>\n",
       "    </tr>\n",
       "    <tr>\n",
       "      <th>53938</th>\n",
       "      <td>0.86</td>\n",
       "      <td>Premium</td>\n",
       "      <td>H</td>\n",
       "      <td>SI2</td>\n",
       "      <td>61.0</td>\n",
       "      <td>58.0</td>\n",
       "      <td>6.15</td>\n",
       "      <td>6.12</td>\n",
       "      <td>2757</td>\n",
       "    </tr>\n",
       "    <tr>\n",
       "      <th>53939</th>\n",
       "      <td>0.75</td>\n",
       "      <td>Ideal</td>\n",
       "      <td>D</td>\n",
       "      <td>SI2</td>\n",
       "      <td>62.2</td>\n",
       "      <td>55.0</td>\n",
       "      <td>5.83</td>\n",
       "      <td>5.87</td>\n",
       "      <td>2757</td>\n",
       "    </tr>\n",
       "  </tbody>\n",
       "</table>\n",
       "<p>53940 rows × 9 columns</p>\n",
       "</div>"
      ],
      "text/plain": [
       "       carat        cut color clarity  depth  table  weight  size  price\n",
       "0       0.23      Ideal     E     SI2   61.5   55.0    3.95  3.98    326\n",
       "1       0.21    Premium     E     SI1   59.8   61.0    3.89  3.84    326\n",
       "2       0.23       Good     E     VS1   56.9   65.0    4.05  4.07    327\n",
       "3       0.29    Premium     I     VS2   62.4   58.0    4.20  4.23    334\n",
       "4       0.31       Good     J     SI2   63.3   58.0    4.34  4.35    335\n",
       "...      ...        ...   ...     ...    ...    ...     ...   ...    ...\n",
       "53935   0.72      Ideal     D     SI1   60.8   57.0    5.75  5.76   2757\n",
       "53936   0.72       Good     D     SI1   63.1   55.0    5.69  5.75   2757\n",
       "53937   0.70  Very Good     D     SI1   62.8   60.0    5.66  5.68   2757\n",
       "53938   0.86    Premium     H     SI2   61.0   58.0    6.15  6.12   2757\n",
       "53939   0.75      Ideal     D     SI2   62.2   55.0    5.83  5.87   2757\n",
       "\n",
       "[53940 rows x 9 columns]"
      ]
     },
     "execution_count": 207,
     "metadata": {},
     "output_type": "execute_result"
    }
   ],
   "source": [
    "Data= pd.read_csv(r\"C:\\Users\\kastu\\OneDrive\\Desktop\\Diamond_dataset.csv\")\n",
    "Data"
   ]
  },
  {
   "cell_type": "code",
   "execution_count": 5,
   "id": "33e63065-1e40-4fad-9393-c2819d11a2c2",
   "metadata": {},
   "outputs": [],
   "source": [
    "# Cheking for data types"
   ]
  },
  {
   "cell_type": "code",
   "execution_count": 209,
   "id": "7d31f4d5-0403-45c5-a9ac-43ddbdb21422",
   "metadata": {},
   "outputs": [
    {
     "data": {
      "text/plain": [
       "carat      float64\n",
       "cut         object\n",
       "color       object\n",
       "clarity     object\n",
       "depth      float64\n",
       "table      float64\n",
       "weight     float64\n",
       "size       float64\n",
       "price        int64\n",
       "dtype: object"
      ]
     },
     "execution_count": 209,
     "metadata": {},
     "output_type": "execute_result"
    }
   ],
   "source": [
    "Data.dtypes"
   ]
  },
  {
   "cell_type": "raw",
   "id": "2e0abe30-f463-4be2-930d-9f408aeaa155",
   "metadata": {},
   "source": [
    "A.\tCreate 2 dataframes out of this dataframe – 1 with all numerical variables and other with all categorical variables."
   ]
  },
  {
   "cell_type": "code",
   "execution_count": null,
   "id": "880878ca-1124-4e32-9dda-d1ae3b714042",
   "metadata": {},
   "outputs": [],
   "source": [
    "# column names"
   ]
  },
  {
   "cell_type": "code",
   "execution_count": 211,
   "id": "4c21abf6-104f-4f2b-8ce6-76667310b7d7",
   "metadata": {},
   "outputs": [
    {
     "data": {
      "text/plain": [
       "Index(['carat', 'cut', 'color', 'clarity', 'depth', 'table', 'weight', 'size',\n",
       "       'price'],\n",
       "      dtype='object')"
      ]
     },
     "execution_count": 211,
     "metadata": {},
     "output_type": "execute_result"
    }
   ],
   "source": [
    "Data.columns"
   ]
  },
  {
   "cell_type": "code",
   "execution_count": null,
   "id": "c4c060d9-9684-42e4-8971-d88ca5720b77",
   "metadata": {},
   "outputs": [],
   "source": [
    "# extracting numerical columns"
   ]
  },
  {
   "cell_type": "code",
   "execution_count": 217,
   "id": "f44afe3d-e0bd-4f60-a835-a46a5e27c88a",
   "metadata": {},
   "outputs": [
    {
     "data": {
      "text/plain": [
       "['carat', 'depth', 'table', 'weight', 'size', 'price']"
      ]
     },
     "execution_count": 217,
     "metadata": {},
     "output_type": "execute_result"
    }
   ],
   "source": [
    "num_col=[fea for fea in Data.columns if Data[fea].dtypes!='object']\n",
    "num_col"
   ]
  },
  {
   "cell_type": "code",
   "execution_count": 219,
   "id": "47612c07-3c45-4afd-a562-e605e43b678a",
   "metadata": {},
   "outputs": [
    {
     "data": {
      "text/html": [
       "<div>\n",
       "<style scoped>\n",
       "    .dataframe tbody tr th:only-of-type {\n",
       "        vertical-align: middle;\n",
       "    }\n",
       "\n",
       "    .dataframe tbody tr th {\n",
       "        vertical-align: top;\n",
       "    }\n",
       "\n",
       "    .dataframe thead th {\n",
       "        text-align: right;\n",
       "    }\n",
       "</style>\n",
       "<table border=\"1\" class=\"dataframe\">\n",
       "  <thead>\n",
       "    <tr style=\"text-align: right;\">\n",
       "      <th></th>\n",
       "      <th>carat</th>\n",
       "      <th>depth</th>\n",
       "      <th>table</th>\n",
       "      <th>weight</th>\n",
       "      <th>size</th>\n",
       "      <th>price</th>\n",
       "    </tr>\n",
       "  </thead>\n",
       "  <tbody>\n",
       "    <tr>\n",
       "      <th>0</th>\n",
       "      <td>0.23</td>\n",
       "      <td>61.5</td>\n",
       "      <td>55.0</td>\n",
       "      <td>3.95</td>\n",
       "      <td>3.98</td>\n",
       "      <td>326</td>\n",
       "    </tr>\n",
       "    <tr>\n",
       "      <th>1</th>\n",
       "      <td>0.21</td>\n",
       "      <td>59.8</td>\n",
       "      <td>61.0</td>\n",
       "      <td>3.89</td>\n",
       "      <td>3.84</td>\n",
       "      <td>326</td>\n",
       "    </tr>\n",
       "    <tr>\n",
       "      <th>2</th>\n",
       "      <td>0.23</td>\n",
       "      <td>56.9</td>\n",
       "      <td>65.0</td>\n",
       "      <td>4.05</td>\n",
       "      <td>4.07</td>\n",
       "      <td>327</td>\n",
       "    </tr>\n",
       "    <tr>\n",
       "      <th>3</th>\n",
       "      <td>0.29</td>\n",
       "      <td>62.4</td>\n",
       "      <td>58.0</td>\n",
       "      <td>4.20</td>\n",
       "      <td>4.23</td>\n",
       "      <td>334</td>\n",
       "    </tr>\n",
       "    <tr>\n",
       "      <th>4</th>\n",
       "      <td>0.31</td>\n",
       "      <td>63.3</td>\n",
       "      <td>58.0</td>\n",
       "      <td>4.34</td>\n",
       "      <td>4.35</td>\n",
       "      <td>335</td>\n",
       "    </tr>\n",
       "    <tr>\n",
       "      <th>...</th>\n",
       "      <td>...</td>\n",
       "      <td>...</td>\n",
       "      <td>...</td>\n",
       "      <td>...</td>\n",
       "      <td>...</td>\n",
       "      <td>...</td>\n",
       "    </tr>\n",
       "    <tr>\n",
       "      <th>53935</th>\n",
       "      <td>0.72</td>\n",
       "      <td>60.8</td>\n",
       "      <td>57.0</td>\n",
       "      <td>5.75</td>\n",
       "      <td>5.76</td>\n",
       "      <td>2757</td>\n",
       "    </tr>\n",
       "    <tr>\n",
       "      <th>53936</th>\n",
       "      <td>0.72</td>\n",
       "      <td>63.1</td>\n",
       "      <td>55.0</td>\n",
       "      <td>5.69</td>\n",
       "      <td>5.75</td>\n",
       "      <td>2757</td>\n",
       "    </tr>\n",
       "    <tr>\n",
       "      <th>53937</th>\n",
       "      <td>0.70</td>\n",
       "      <td>62.8</td>\n",
       "      <td>60.0</td>\n",
       "      <td>5.66</td>\n",
       "      <td>5.68</td>\n",
       "      <td>2757</td>\n",
       "    </tr>\n",
       "    <tr>\n",
       "      <th>53938</th>\n",
       "      <td>0.86</td>\n",
       "      <td>61.0</td>\n",
       "      <td>58.0</td>\n",
       "      <td>6.15</td>\n",
       "      <td>6.12</td>\n",
       "      <td>2757</td>\n",
       "    </tr>\n",
       "    <tr>\n",
       "      <th>53939</th>\n",
       "      <td>0.75</td>\n",
       "      <td>62.2</td>\n",
       "      <td>55.0</td>\n",
       "      <td>5.83</td>\n",
       "      <td>5.87</td>\n",
       "      <td>2757</td>\n",
       "    </tr>\n",
       "  </tbody>\n",
       "</table>\n",
       "<p>53940 rows × 6 columns</p>\n",
       "</div>"
      ],
      "text/plain": [
       "       carat  depth  table  weight  size  price\n",
       "0       0.23   61.5   55.0    3.95  3.98    326\n",
       "1       0.21   59.8   61.0    3.89  3.84    326\n",
       "2       0.23   56.9   65.0    4.05  4.07    327\n",
       "3       0.29   62.4   58.0    4.20  4.23    334\n",
       "4       0.31   63.3   58.0    4.34  4.35    335\n",
       "...      ...    ...    ...     ...   ...    ...\n",
       "53935   0.72   60.8   57.0    5.75  5.76   2757\n",
       "53936   0.72   63.1   55.0    5.69  5.75   2757\n",
       "53937   0.70   62.8   60.0    5.66  5.68   2757\n",
       "53938   0.86   61.0   58.0    6.15  6.12   2757\n",
       "53939   0.75   62.2   55.0    5.83  5.87   2757\n",
       "\n",
       "[53940 rows x 6 columns]"
      ]
     },
     "execution_count": 219,
     "metadata": {},
     "output_type": "execute_result"
    }
   ],
   "source": [
    "Data_numerical=Data[num_col]\n",
    "Data_numerical"
   ]
  },
  {
   "cell_type": "code",
   "execution_count": null,
   "id": "0a5f9c33-a191-42b8-9693-c3c14e86ee70",
   "metadata": {},
   "outputs": [],
   "source": [
    "# extracting categorical columns"
   ]
  },
  {
   "cell_type": "code",
   "execution_count": null,
   "id": "1e2bb119-650a-4804-bd4e-43bb8c6a91f8",
   "metadata": {},
   "outputs": [],
   "source": []
  },
  {
   "cell_type": "code",
   "execution_count": 213,
   "id": "762e66d3-6ec0-40eb-abe3-dde87f99835d",
   "metadata": {},
   "outputs": [
    {
     "data": {
      "text/plain": [
       "['cut', 'color', 'clarity']"
      ]
     },
     "execution_count": 213,
     "metadata": {},
     "output_type": "execute_result"
    }
   ],
   "source": [
    "cat_col=[fea for fea in Data.columns if Data[fea].dtypes=='object']\n",
    "cat_col"
   ]
  },
  {
   "cell_type": "code",
   "execution_count": 215,
   "id": "6f6e1624-1ffd-4638-9cb6-44bba43068f3",
   "metadata": {},
   "outputs": [
    {
     "data": {
      "text/html": [
       "<div>\n",
       "<style scoped>\n",
       "    .dataframe tbody tr th:only-of-type {\n",
       "        vertical-align: middle;\n",
       "    }\n",
       "\n",
       "    .dataframe tbody tr th {\n",
       "        vertical-align: top;\n",
       "    }\n",
       "\n",
       "    .dataframe thead th {\n",
       "        text-align: right;\n",
       "    }\n",
       "</style>\n",
       "<table border=\"1\" class=\"dataframe\">\n",
       "  <thead>\n",
       "    <tr style=\"text-align: right;\">\n",
       "      <th></th>\n",
       "      <th>cut</th>\n",
       "      <th>color</th>\n",
       "      <th>clarity</th>\n",
       "    </tr>\n",
       "  </thead>\n",
       "  <tbody>\n",
       "    <tr>\n",
       "      <th>0</th>\n",
       "      <td>Ideal</td>\n",
       "      <td>E</td>\n",
       "      <td>SI2</td>\n",
       "    </tr>\n",
       "    <tr>\n",
       "      <th>1</th>\n",
       "      <td>Premium</td>\n",
       "      <td>E</td>\n",
       "      <td>SI1</td>\n",
       "    </tr>\n",
       "    <tr>\n",
       "      <th>2</th>\n",
       "      <td>Good</td>\n",
       "      <td>E</td>\n",
       "      <td>VS1</td>\n",
       "    </tr>\n",
       "    <tr>\n",
       "      <th>3</th>\n",
       "      <td>Premium</td>\n",
       "      <td>I</td>\n",
       "      <td>VS2</td>\n",
       "    </tr>\n",
       "    <tr>\n",
       "      <th>4</th>\n",
       "      <td>Good</td>\n",
       "      <td>J</td>\n",
       "      <td>SI2</td>\n",
       "    </tr>\n",
       "    <tr>\n",
       "      <th>...</th>\n",
       "      <td>...</td>\n",
       "      <td>...</td>\n",
       "      <td>...</td>\n",
       "    </tr>\n",
       "    <tr>\n",
       "      <th>53935</th>\n",
       "      <td>Ideal</td>\n",
       "      <td>D</td>\n",
       "      <td>SI1</td>\n",
       "    </tr>\n",
       "    <tr>\n",
       "      <th>53936</th>\n",
       "      <td>Good</td>\n",
       "      <td>D</td>\n",
       "      <td>SI1</td>\n",
       "    </tr>\n",
       "    <tr>\n",
       "      <th>53937</th>\n",
       "      <td>Very Good</td>\n",
       "      <td>D</td>\n",
       "      <td>SI1</td>\n",
       "    </tr>\n",
       "    <tr>\n",
       "      <th>53938</th>\n",
       "      <td>Premium</td>\n",
       "      <td>H</td>\n",
       "      <td>SI2</td>\n",
       "    </tr>\n",
       "    <tr>\n",
       "      <th>53939</th>\n",
       "      <td>Ideal</td>\n",
       "      <td>D</td>\n",
       "      <td>SI2</td>\n",
       "    </tr>\n",
       "  </tbody>\n",
       "</table>\n",
       "<p>53940 rows × 3 columns</p>\n",
       "</div>"
      ],
      "text/plain": [
       "             cut color clarity\n",
       "0          Ideal     E     SI2\n",
       "1        Premium     E     SI1\n",
       "2           Good     E     VS1\n",
       "3        Premium     I     VS2\n",
       "4           Good     J     SI2\n",
       "...          ...   ...     ...\n",
       "53935      Ideal     D     SI1\n",
       "53936       Good     D     SI1\n",
       "53937  Very Good     D     SI1\n",
       "53938    Premium     H     SI2\n",
       "53939      Ideal     D     SI2\n",
       "\n",
       "[53940 rows x 3 columns]"
      ]
     },
     "execution_count": 215,
     "metadata": {},
     "output_type": "execute_result"
    }
   ],
   "source": [
    "Data_cat=Data[cat_col]\n",
    "Data_cat"
   ]
  },
  {
   "cell_type": "raw",
   "id": "1abdb56f-5e91-4098-ab41-3afcd74264bc",
   "metadata": {},
   "source": [
    "B.\tCalculate the measure of central tendency of numerical variables using Pandas and statistics libraries and check if the calculated values are different between these 2 libraries."
   ]
  },
  {
   "cell_type": "code",
   "execution_count": null,
   "id": "20f37317-3426-4b0b-8185-27dcaa46c89f",
   "metadata": {},
   "outputs": [],
   "source": [
    "# describing statistical summary"
   ]
  },
  {
   "cell_type": "code",
   "execution_count": 17,
   "id": "6ef9da14-2b01-419c-bfa2-2440ec41112a",
   "metadata": {},
   "outputs": [
    {
     "data": {
      "text/html": [
       "<div>\n",
       "<style scoped>\n",
       "    .dataframe tbody tr th:only-of-type {\n",
       "        vertical-align: middle;\n",
       "    }\n",
       "\n",
       "    .dataframe tbody tr th {\n",
       "        vertical-align: top;\n",
       "    }\n",
       "\n",
       "    .dataframe thead th {\n",
       "        text-align: right;\n",
       "    }\n",
       "</style>\n",
       "<table border=\"1\" class=\"dataframe\">\n",
       "  <thead>\n",
       "    <tr style=\"text-align: right;\">\n",
       "      <th></th>\n",
       "      <th>carat</th>\n",
       "      <th>depth</th>\n",
       "      <th>table</th>\n",
       "      <th>weight</th>\n",
       "      <th>size</th>\n",
       "      <th>price</th>\n",
       "    </tr>\n",
       "  </thead>\n",
       "  <tbody>\n",
       "    <tr>\n",
       "      <th>count</th>\n",
       "      <td>53940.000000</td>\n",
       "      <td>53940.000000</td>\n",
       "      <td>53940.000000</td>\n",
       "      <td>53940.000000</td>\n",
       "      <td>53940.000000</td>\n",
       "      <td>53940.000000</td>\n",
       "    </tr>\n",
       "    <tr>\n",
       "      <th>mean</th>\n",
       "      <td>0.797940</td>\n",
       "      <td>61.749405</td>\n",
       "      <td>57.457184</td>\n",
       "      <td>5.731157</td>\n",
       "      <td>5.734526</td>\n",
       "      <td>3932.799722</td>\n",
       "    </tr>\n",
       "    <tr>\n",
       "      <th>std</th>\n",
       "      <td>0.474011</td>\n",
       "      <td>1.432621</td>\n",
       "      <td>2.234491</td>\n",
       "      <td>1.121761</td>\n",
       "      <td>1.142135</td>\n",
       "      <td>3989.439738</td>\n",
       "    </tr>\n",
       "    <tr>\n",
       "      <th>min</th>\n",
       "      <td>0.200000</td>\n",
       "      <td>43.000000</td>\n",
       "      <td>43.000000</td>\n",
       "      <td>0.000000</td>\n",
       "      <td>0.000000</td>\n",
       "      <td>326.000000</td>\n",
       "    </tr>\n",
       "    <tr>\n",
       "      <th>25%</th>\n",
       "      <td>0.400000</td>\n",
       "      <td>61.000000</td>\n",
       "      <td>56.000000</td>\n",
       "      <td>4.710000</td>\n",
       "      <td>4.720000</td>\n",
       "      <td>950.000000</td>\n",
       "    </tr>\n",
       "    <tr>\n",
       "      <th>50%</th>\n",
       "      <td>0.700000</td>\n",
       "      <td>61.800000</td>\n",
       "      <td>57.000000</td>\n",
       "      <td>5.700000</td>\n",
       "      <td>5.710000</td>\n",
       "      <td>2401.000000</td>\n",
       "    </tr>\n",
       "    <tr>\n",
       "      <th>75%</th>\n",
       "      <td>1.040000</td>\n",
       "      <td>62.500000</td>\n",
       "      <td>59.000000</td>\n",
       "      <td>6.540000</td>\n",
       "      <td>6.540000</td>\n",
       "      <td>5324.250000</td>\n",
       "    </tr>\n",
       "    <tr>\n",
       "      <th>max</th>\n",
       "      <td>5.010000</td>\n",
       "      <td>79.000000</td>\n",
       "      <td>95.000000</td>\n",
       "      <td>10.740000</td>\n",
       "      <td>58.900000</td>\n",
       "      <td>18823.000000</td>\n",
       "    </tr>\n",
       "  </tbody>\n",
       "</table>\n",
       "</div>"
      ],
      "text/plain": [
       "              carat         depth         table        weight          size  \\\n",
       "count  53940.000000  53940.000000  53940.000000  53940.000000  53940.000000   \n",
       "mean       0.797940     61.749405     57.457184      5.731157      5.734526   \n",
       "std        0.474011      1.432621      2.234491      1.121761      1.142135   \n",
       "min        0.200000     43.000000     43.000000      0.000000      0.000000   \n",
       "25%        0.400000     61.000000     56.000000      4.710000      4.720000   \n",
       "50%        0.700000     61.800000     57.000000      5.700000      5.710000   \n",
       "75%        1.040000     62.500000     59.000000      6.540000      6.540000   \n",
       "max        5.010000     79.000000     95.000000     10.740000     58.900000   \n",
       "\n",
       "              price  \n",
       "count  53940.000000  \n",
       "mean    3932.799722  \n",
       "std     3989.439738  \n",
       "min      326.000000  \n",
       "25%      950.000000  \n",
       "50%     2401.000000  \n",
       "75%     5324.250000  \n",
       "max    18823.000000  "
      ]
     },
     "execution_count": 17,
     "metadata": {},
     "output_type": "execute_result"
    }
   ],
   "source": [
    "mean_pandas=Data_numerical.describe()\n",
    "mean_pandas"
   ]
  },
  {
   "cell_type": "code",
   "execution_count": 43,
   "id": "8977512a-ab42-4512-a668-ab277a2e11a5",
   "metadata": {},
   "outputs": [],
   "source": [
    "# mean using pandas library"
   ]
  },
  {
   "cell_type": "code",
   "execution_count": 21,
   "id": "12841bad-7112-4afb-a6c8-b0aad096f409",
   "metadata": {},
   "outputs": [
    {
     "data": {
      "text/plain": [
       "carat        0.797940\n",
       "depth       61.749405\n",
       "table       57.457184\n",
       "weight       5.731157\n",
       "size         5.734526\n",
       "price     3932.799722\n",
       "dtype: float64"
      ]
     },
     "execution_count": 21,
     "metadata": {},
     "output_type": "execute_result"
    }
   ],
   "source": [
    "Pandas_mean=Data_numerical.mean()\n",
    "Pandas_mean"
   ]
  },
  {
   "cell_type": "code",
   "execution_count": 47,
   "id": "6661764e-d8c9-4207-8cb7-54a67aa0f0ae",
   "metadata": {},
   "outputs": [],
   "source": [
    "# mean using statistical library"
   ]
  },
  {
   "cell_type": "code",
   "execution_count": 23,
   "id": "0749801b-2d59-4e95-b972-43a3fa309393",
   "metadata": {},
   "outputs": [
    {
     "data": {
      "text/plain": [
       "carat        0.797940\n",
       "depth       61.749405\n",
       "table       57.457184\n",
       "weight       5.731157\n",
       "size         5.734526\n",
       "price     3932.799722\n",
       "dtype: float64"
      ]
     },
     "execution_count": 23,
     "metadata": {},
     "output_type": "execute_result"
    }
   ],
   "source": [
    "stat_mean=np.mean(Data_numerical,axis=0)\n",
    "stat_mean"
   ]
  },
  {
   "cell_type": "code",
   "execution_count": 51,
   "id": "da6e3a1b-587b-4419-97b6-e3e340a046ca",
   "metadata": {},
   "outputs": [],
   "source": [
    "# median using pandas library"
   ]
  },
  {
   "cell_type": "code",
   "execution_count": 53,
   "id": "d9e571c1-62f2-4ca4-b29b-c564003d8bd7",
   "metadata": {},
   "outputs": [
    {
     "data": {
      "text/plain": [
       "carat        0.70\n",
       "depth       61.80\n",
       "table       57.00\n",
       "weight       5.70\n",
       "size         5.71\n",
       "price     2401.00\n",
       "dtype: float64"
      ]
     },
     "execution_count": 53,
     "metadata": {},
     "output_type": "execute_result"
    }
   ],
   "source": [
    "Pd_median=Data_numerical.median()\n",
    "Pd_median"
   ]
  },
  {
   "cell_type": "code",
   "execution_count": 55,
   "id": "b6f273f2-a707-4d89-8bfc-720a0f539a24",
   "metadata": {},
   "outputs": [],
   "source": [
    "# median using statistical library"
   ]
  },
  {
   "cell_type": "code",
   "execution_count": 57,
   "id": "232533b3-c858-4107-bcf7-c7cf976cde93",
   "metadata": {},
   "outputs": [
    {
     "data": {
      "text/plain": [
       "array([7.000e-01, 6.180e+01, 5.700e+01, 5.700e+00, 5.710e+00, 2.401e+03])"
      ]
     },
     "execution_count": 57,
     "metadata": {},
     "output_type": "execute_result"
    }
   ],
   "source": [
    "stat_median=np.median(Data_numerical, axis=0)\n",
    "stat_median"
   ]
  },
  {
   "cell_type": "code",
   "execution_count": 59,
   "id": "17def0fb-6764-4d17-bc60-d241e4aa9bd8",
   "metadata": {},
   "outputs": [],
   "source": [
    "# mode of pandas"
   ]
  },
  {
   "cell_type": "code",
   "execution_count": 61,
   "id": "a668a795-dcff-4e37-a743-9c85ab9b710c",
   "metadata": {},
   "outputs": [
    {
     "data": {
      "text/html": [
       "<div>\n",
       "<style scoped>\n",
       "    .dataframe tbody tr th:only-of-type {\n",
       "        vertical-align: middle;\n",
       "    }\n",
       "\n",
       "    .dataframe tbody tr th {\n",
       "        vertical-align: top;\n",
       "    }\n",
       "\n",
       "    .dataframe thead th {\n",
       "        text-align: right;\n",
       "    }\n",
       "</style>\n",
       "<table border=\"1\" class=\"dataframe\">\n",
       "  <thead>\n",
       "    <tr style=\"text-align: right;\">\n",
       "      <th></th>\n",
       "      <th>carat</th>\n",
       "      <th>depth</th>\n",
       "      <th>table</th>\n",
       "      <th>weight</th>\n",
       "      <th>size</th>\n",
       "      <th>price</th>\n",
       "    </tr>\n",
       "  </thead>\n",
       "  <tbody>\n",
       "    <tr>\n",
       "      <th>0</th>\n",
       "      <td>0.3</td>\n",
       "      <td>62.0</td>\n",
       "      <td>56.0</td>\n",
       "      <td>4.37</td>\n",
       "      <td>4.34</td>\n",
       "      <td>605</td>\n",
       "    </tr>\n",
       "  </tbody>\n",
       "</table>\n",
       "</div>"
      ],
      "text/plain": [
       "   carat  depth  table  weight  size  price\n",
       "0    0.3   62.0   56.0    4.37  4.34    605"
      ]
     },
     "execution_count": 61,
     "metadata": {},
     "output_type": "execute_result"
    }
   ],
   "source": [
    "Data_numerical.mode()"
   ]
  },
  {
   "cell_type": "code",
   "execution_count": 63,
   "id": "eaf0d780-5218-4e1e-9bcb-9f10363b0898",
   "metadata": {},
   "outputs": [],
   "source": [
    "# checking for mode of table column to compare with pandas data"
   ]
  },
  {
   "cell_type": "code",
   "execution_count": 65,
   "id": "ba0f07a2-3313-4dd9-a18c-823543971c9e",
   "metadata": {},
   "outputs": [
    {
     "data": {
      "text/plain": [
       "56.0"
      ]
     },
     "execution_count": 65,
     "metadata": {},
     "output_type": "execute_result"
    }
   ],
   "source": [
    "stat.mode(Data_numerical['table'])\n",
    "                             "
   ]
  },
  {
   "cell_type": "markdown",
   "id": "6e9ddfb9-7f19-4aa8-8aca-d2396e6f0479",
   "metadata": {},
   "source": [
    "#### The values of Central Tendency of pandas and statistics are same."
   ]
  },
  {
   "cell_type": "raw",
   "id": "b2bf74a4-a61f-482d-b1d4-1ec4034c3488",
   "metadata": {},
   "source": [
    "\n",
    "C.\tCheck the skewness of all numeric variables. Mention against each variable if its highly skewed/light skewed/ Moderately skwewed.\n"
   ]
  },
  {
   "cell_type": "code",
   "execution_count": 68,
   "id": "b601a4b9-8c70-47c1-be7f-7df32559e2c3",
   "metadata": {},
   "outputs": [
    {
     "name": "stdout",
     "output_type": "stream",
     "text": [
      "Original Skewness:\n",
      "carat     1.116646\n",
      "depth    -0.082294\n",
      "table     0.796896\n",
      "weight    0.378676\n",
      "size      2.434167\n",
      "price     1.618395\n",
      "dtype: float64\n"
     ]
    }
   ],
   "source": [
    "original_skewness = Data_numerical[['carat', 'depth', 'table', 'weight', 'size', 'price']].skew()\n",
    "print(\"Original Skewness:\")\n",
    "print(original_skewness)"
   ]
  },
  {
   "cell_type": "markdown",
   "id": "99a67e91-c92a-4ab8-ba8b-1a88042b482a",
   "metadata": {},
   "source": [
    "### Here carat,size,price are highly skewed\n",
    "### depth and weight are lightly skewed \n",
    "### table is moderatly skewed.\n",
    "### carat,size,price,table are positive right skewed\n",
    "### depth is negative left skewed\n"
   ]
  },
  {
   "cell_type": "raw",
   "id": "de5d1fe1-aa9c-4299-9005-3f7e6ca534b5",
   "metadata": {},
   "source": [
    "D.\tUse the different transformation techniques to convert skewed data found in previous question into normal distribution."
   ]
  },
  {
   "cell_type": "code",
   "execution_count": 71,
   "id": "4c88c529-ae88-4919-a728-fb3593ade3ba",
   "metadata": {},
   "outputs": [],
   "source": [
    "# log transformation for highly skewed data"
   ]
  },
  {
   "cell_type": "code",
   "execution_count": 73,
   "id": "1cf41807-9470-4df8-89cd-dde519df5209",
   "metadata": {},
   "outputs": [
    {
     "data": {
      "text/plain": [
       "0       -1.469676\n",
       "1       -1.560648\n",
       "2       -1.469676\n",
       "3       -1.237874\n",
       "4       -1.171183\n",
       "           ...   \n",
       "53935   -0.328504\n",
       "53936   -0.328504\n",
       "53937   -0.356675\n",
       "53938   -0.150823\n",
       "53939   -0.287682\n",
       "Name: log_carat, Length: 53940, dtype: float64"
      ]
     },
     "execution_count": 73,
     "metadata": {},
     "output_type": "execute_result"
    }
   ],
   "source": [
    "Data_numerical['log_carat'] = np.log(Data_numerical['carat'])\n",
    "Data_numerical['log_carat'] \n",
    "\n"
   ]
  },
  {
   "cell_type": "code",
   "execution_count": 75,
   "id": "3c63707a-5ae7-4379-81f8-6fc251f7d7c1",
   "metadata": {},
   "outputs": [
    {
     "data": {
      "text/plain": [
       "0        1.381282\n",
       "1        1.345472\n",
       "2        1.403643\n",
       "3        1.442202\n",
       "4        1.470176\n",
       "           ...   \n",
       "53935    1.750937\n",
       "53936    1.749200\n",
       "53937    1.736951\n",
       "53938    1.811562\n",
       "53939    1.769855\n",
       "Name: log_size, Length: 53940, dtype: float64"
      ]
     },
     "execution_count": 75,
     "metadata": {},
     "output_type": "execute_result"
    }
   ],
   "source": [
    "Data_numerical['log_size'] = np.log(Data_numerical['size'])\n",
    "Data_numerical['log_size'] "
   ]
  },
  {
   "cell_type": "code",
   "execution_count": 25,
   "id": "e4751a36-590d-43e9-872c-7dfa72584d07",
   "metadata": {},
   "outputs": [
    {
     "data": {
      "text/plain": [
       "0        5.786897\n",
       "1        5.786897\n",
       "2        5.789960\n",
       "3        5.811141\n",
       "4        5.814131\n",
       "           ...   \n",
       "53935    7.921898\n",
       "53936    7.921898\n",
       "53937    7.921898\n",
       "53938    7.921898\n",
       "53939    7.921898\n",
       "Name: log_price, Length: 53940, dtype: float64"
      ]
     },
     "execution_count": 25,
     "metadata": {},
     "output_type": "execute_result"
    }
   ],
   "source": [
    "Data_numerical['log_price'] = np.log(Data_numerical['price'])\n",
    "Data_numerical['log_price'] "
   ]
  },
  {
   "cell_type": "code",
   "execution_count": 79,
   "id": "70612383-b606-46cf-b928-bf1ed9cc2265",
   "metadata": {},
   "outputs": [],
   "source": [
    "# square root transformation for Moderately right-skewed data"
   ]
  },
  {
   "cell_type": "code",
   "execution_count": 27,
   "id": "9762cbfc-ff2c-4c3a-be51-fb5a75aa45d2",
   "metadata": {},
   "outputs": [
    {
     "data": {
      "text/plain": [
       "0        7.416198\n",
       "1        7.810250\n",
       "2        8.062258\n",
       "3        7.615773\n",
       "4        7.615773\n",
       "           ...   \n",
       "53935    7.549834\n",
       "53936    7.416198\n",
       "53937    7.745967\n",
       "53938    7.615773\n",
       "53939    7.416198\n",
       "Name: sqrt_table, Length: 53940, dtype: float64"
      ]
     },
     "execution_count": 27,
     "metadata": {},
     "output_type": "execute_result"
    }
   ],
   "source": [
    "Data_numerical['sqrt_table'] = np.sqrt(Data_numerical['table'])\n",
    "Data_numerical['sqrt_table'] "
   ]
  },
  {
   "cell_type": "code",
   "execution_count": 83,
   "id": "01b14ee0-e576-4d69-a54e-aac99556db6c",
   "metadata": {},
   "outputs": [],
   "source": [
    "# cube root transformation for lightly or negetively skewed data"
   ]
  },
  {
   "cell_type": "code",
   "execution_count": 29,
   "id": "115096eb-3a2c-40d3-919c-0746b9f5a234",
   "metadata": {},
   "outputs": [
    {
     "data": {
      "text/plain": [
       "0        1.580759\n",
       "1        1.572714\n",
       "2        1.593988\n",
       "3        1.613429\n",
       "4        1.631160\n",
       "           ...   \n",
       "53935    1.791524\n",
       "53936    1.785271\n",
       "53937    1.782128\n",
       "53938    1.832139\n",
       "53939    1.799794\n",
       "Name: cbrt_weight, Length: 53940, dtype: float64"
      ]
     },
     "execution_count": 29,
     "metadata": {},
     "output_type": "execute_result"
    }
   ],
   "source": [
    "Data_numerical['cbrt_weight'] = np.cbrt(Data_numerical['weight'])\n",
    "Data_numerical['cbrt_weight'] "
   ]
  },
  {
   "cell_type": "code",
   "execution_count": 31,
   "id": "fe8f8479-948d-429b-b355-6f4c0f8aa4cc",
   "metadata": {},
   "outputs": [
    {
     "data": {
      "text/plain": [
       "0        3.947223\n",
       "1        3.910513\n",
       "2        3.846249\n",
       "3        3.966385\n",
       "4        3.985363\n",
       "           ...   \n",
       "53935    3.932190\n",
       "53936    3.981161\n",
       "53937    3.974842\n",
       "53938    3.936497\n",
       "53939    3.962143\n",
       "Name: cbrt_depth, Length: 53940, dtype: float64"
      ]
     },
     "execution_count": 31,
     "metadata": {},
     "output_type": "execute_result"
    }
   ],
   "source": [
    "Data_numerical['cbrt_depth'] = np.cbrt(Data_numerical['depth'])\n",
    "Data_numerical['cbrt_depth'] "
   ]
  },
  {
   "cell_type": "code",
   "execution_count": 89,
   "id": "b4048925-fed3-4849-ba46-0834bd1a0450",
   "metadata": {},
   "outputs": [],
   "source": [
    "# checking for skewness after transformation"
   ]
  },
  {
   "cell_type": "code",
   "execution_count": null,
   "id": "ae75a8f4-b728-49fc-9ee2-eb23ac2a849f",
   "metadata": {},
   "outputs": [],
   "source": [
    "transformed_skewness = Data_numerical[['log_carat', 'cbrt_depth', 'sqrt_table', 'cbrt_weight', 'log_size', 'log_price']].skew()\n",
    "print(transformed_skewness)"
   ]
  },
  {
   "cell_type": "raw",
   "id": "ef10828b-2d0e-4ad1-b72b-019ed85a3271",
   "metadata": {},
   "source": [
    "E.Create a user defined function in python to check the outliers using IQR method. Then pass all numeric variables in that function to check outliers."
   ]
  },
  {
   "cell_type": "code",
   "execution_count": 93,
   "id": "75944b8a-be7c-422c-8906-38e5d092e7b3",
   "metadata": {},
   "outputs": [
    {
     "data": {
      "text/html": [
       "<div>\n",
       "<style scoped>\n",
       "    .dataframe tbody tr th:only-of-type {\n",
       "        vertical-align: middle;\n",
       "    }\n",
       "\n",
       "    .dataframe tbody tr th {\n",
       "        vertical-align: top;\n",
       "    }\n",
       "\n",
       "    .dataframe thead th {\n",
       "        text-align: right;\n",
       "    }\n",
       "</style>\n",
       "<table border=\"1\" class=\"dataframe\">\n",
       "  <thead>\n",
       "    <tr style=\"text-align: right;\">\n",
       "      <th></th>\n",
       "      <th>carat</th>\n",
       "      <th>depth</th>\n",
       "      <th>table</th>\n",
       "      <th>weight</th>\n",
       "      <th>size</th>\n",
       "      <th>price</th>\n",
       "      <th>log_carat</th>\n",
       "      <th>log_size</th>\n",
       "      <th>log_price</th>\n",
       "      <th>sqrt_table</th>\n",
       "      <th>cbrt_weight</th>\n",
       "      <th>cbrt_depth</th>\n",
       "    </tr>\n",
       "  </thead>\n",
       "  <tbody>\n",
       "    <tr>\n",
       "      <th>0</th>\n",
       "      <td>0.23</td>\n",
       "      <td>61.5</td>\n",
       "      <td>55.0</td>\n",
       "      <td>3.95</td>\n",
       "      <td>3.98</td>\n",
       "      <td>326</td>\n",
       "      <td>-1.469676</td>\n",
       "      <td>1.381282</td>\n",
       "      <td>5.786897</td>\n",
       "      <td>7.416198</td>\n",
       "      <td>1.580759</td>\n",
       "      <td>3.947223</td>\n",
       "    </tr>\n",
       "    <tr>\n",
       "      <th>1</th>\n",
       "      <td>0.21</td>\n",
       "      <td>59.8</td>\n",
       "      <td>61.0</td>\n",
       "      <td>3.89</td>\n",
       "      <td>3.84</td>\n",
       "      <td>326</td>\n",
       "      <td>-1.560648</td>\n",
       "      <td>1.345472</td>\n",
       "      <td>5.786897</td>\n",
       "      <td>7.810250</td>\n",
       "      <td>1.572714</td>\n",
       "      <td>3.910513</td>\n",
       "    </tr>\n",
       "    <tr>\n",
       "      <th>2</th>\n",
       "      <td>0.23</td>\n",
       "      <td>56.9</td>\n",
       "      <td>65.0</td>\n",
       "      <td>4.05</td>\n",
       "      <td>4.07</td>\n",
       "      <td>327</td>\n",
       "      <td>-1.469676</td>\n",
       "      <td>1.403643</td>\n",
       "      <td>5.789960</td>\n",
       "      <td>8.062258</td>\n",
       "      <td>1.593988</td>\n",
       "      <td>3.846249</td>\n",
       "    </tr>\n",
       "    <tr>\n",
       "      <th>3</th>\n",
       "      <td>0.29</td>\n",
       "      <td>62.4</td>\n",
       "      <td>58.0</td>\n",
       "      <td>4.20</td>\n",
       "      <td>4.23</td>\n",
       "      <td>334</td>\n",
       "      <td>-1.237874</td>\n",
       "      <td>1.442202</td>\n",
       "      <td>5.811141</td>\n",
       "      <td>7.615773</td>\n",
       "      <td>1.613429</td>\n",
       "      <td>3.966385</td>\n",
       "    </tr>\n",
       "    <tr>\n",
       "      <th>4</th>\n",
       "      <td>0.31</td>\n",
       "      <td>63.3</td>\n",
       "      <td>58.0</td>\n",
       "      <td>4.34</td>\n",
       "      <td>4.35</td>\n",
       "      <td>335</td>\n",
       "      <td>-1.171183</td>\n",
       "      <td>1.470176</td>\n",
       "      <td>5.814131</td>\n",
       "      <td>7.615773</td>\n",
       "      <td>1.631160</td>\n",
       "      <td>3.985363</td>\n",
       "    </tr>\n",
       "    <tr>\n",
       "      <th>...</th>\n",
       "      <td>...</td>\n",
       "      <td>...</td>\n",
       "      <td>...</td>\n",
       "      <td>...</td>\n",
       "      <td>...</td>\n",
       "      <td>...</td>\n",
       "      <td>...</td>\n",
       "      <td>...</td>\n",
       "      <td>...</td>\n",
       "      <td>...</td>\n",
       "      <td>...</td>\n",
       "      <td>...</td>\n",
       "    </tr>\n",
       "    <tr>\n",
       "      <th>53935</th>\n",
       "      <td>0.72</td>\n",
       "      <td>60.8</td>\n",
       "      <td>57.0</td>\n",
       "      <td>5.75</td>\n",
       "      <td>5.76</td>\n",
       "      <td>2757</td>\n",
       "      <td>-0.328504</td>\n",
       "      <td>1.750937</td>\n",
       "      <td>7.921898</td>\n",
       "      <td>7.549834</td>\n",
       "      <td>1.791524</td>\n",
       "      <td>3.932190</td>\n",
       "    </tr>\n",
       "    <tr>\n",
       "      <th>53936</th>\n",
       "      <td>0.72</td>\n",
       "      <td>63.1</td>\n",
       "      <td>55.0</td>\n",
       "      <td>5.69</td>\n",
       "      <td>5.75</td>\n",
       "      <td>2757</td>\n",
       "      <td>-0.328504</td>\n",
       "      <td>1.749200</td>\n",
       "      <td>7.921898</td>\n",
       "      <td>7.416198</td>\n",
       "      <td>1.785271</td>\n",
       "      <td>3.981161</td>\n",
       "    </tr>\n",
       "    <tr>\n",
       "      <th>53937</th>\n",
       "      <td>0.70</td>\n",
       "      <td>62.8</td>\n",
       "      <td>60.0</td>\n",
       "      <td>5.66</td>\n",
       "      <td>5.68</td>\n",
       "      <td>2757</td>\n",
       "      <td>-0.356675</td>\n",
       "      <td>1.736951</td>\n",
       "      <td>7.921898</td>\n",
       "      <td>7.745967</td>\n",
       "      <td>1.782128</td>\n",
       "      <td>3.974842</td>\n",
       "    </tr>\n",
       "    <tr>\n",
       "      <th>53938</th>\n",
       "      <td>0.86</td>\n",
       "      <td>61.0</td>\n",
       "      <td>58.0</td>\n",
       "      <td>6.15</td>\n",
       "      <td>6.12</td>\n",
       "      <td>2757</td>\n",
       "      <td>-0.150823</td>\n",
       "      <td>1.811562</td>\n",
       "      <td>7.921898</td>\n",
       "      <td>7.615773</td>\n",
       "      <td>1.832139</td>\n",
       "      <td>3.936497</td>\n",
       "    </tr>\n",
       "    <tr>\n",
       "      <th>53939</th>\n",
       "      <td>0.75</td>\n",
       "      <td>62.2</td>\n",
       "      <td>55.0</td>\n",
       "      <td>5.83</td>\n",
       "      <td>5.87</td>\n",
       "      <td>2757</td>\n",
       "      <td>-0.287682</td>\n",
       "      <td>1.769855</td>\n",
       "      <td>7.921898</td>\n",
       "      <td>7.416198</td>\n",
       "      <td>1.799794</td>\n",
       "      <td>3.962143</td>\n",
       "    </tr>\n",
       "  </tbody>\n",
       "</table>\n",
       "<p>53940 rows × 12 columns</p>\n",
       "</div>"
      ],
      "text/plain": [
       "       carat  depth  table  weight  size  price  log_carat  log_size  \\\n",
       "0       0.23   61.5   55.0    3.95  3.98    326  -1.469676  1.381282   \n",
       "1       0.21   59.8   61.0    3.89  3.84    326  -1.560648  1.345472   \n",
       "2       0.23   56.9   65.0    4.05  4.07    327  -1.469676  1.403643   \n",
       "3       0.29   62.4   58.0    4.20  4.23    334  -1.237874  1.442202   \n",
       "4       0.31   63.3   58.0    4.34  4.35    335  -1.171183  1.470176   \n",
       "...      ...    ...    ...     ...   ...    ...        ...       ...   \n",
       "53935   0.72   60.8   57.0    5.75  5.76   2757  -0.328504  1.750937   \n",
       "53936   0.72   63.1   55.0    5.69  5.75   2757  -0.328504  1.749200   \n",
       "53937   0.70   62.8   60.0    5.66  5.68   2757  -0.356675  1.736951   \n",
       "53938   0.86   61.0   58.0    6.15  6.12   2757  -0.150823  1.811562   \n",
       "53939   0.75   62.2   55.0    5.83  5.87   2757  -0.287682  1.769855   \n",
       "\n",
       "       log_price  sqrt_table  cbrt_weight  cbrt_depth  \n",
       "0       5.786897    7.416198     1.580759    3.947223  \n",
       "1       5.786897    7.810250     1.572714    3.910513  \n",
       "2       5.789960    8.062258     1.593988    3.846249  \n",
       "3       5.811141    7.615773     1.613429    3.966385  \n",
       "4       5.814131    7.615773     1.631160    3.985363  \n",
       "...          ...         ...          ...         ...  \n",
       "53935   7.921898    7.549834     1.791524    3.932190  \n",
       "53936   7.921898    7.416198     1.785271    3.981161  \n",
       "53937   7.921898    7.745967     1.782128    3.974842  \n",
       "53938   7.921898    7.615773     1.832139    3.936497  \n",
       "53939   7.921898    7.416198     1.799794    3.962143  \n",
       "\n",
       "[53940 rows x 12 columns]"
      ]
     },
     "execution_count": 93,
     "metadata": {},
     "output_type": "execute_result"
    }
   ],
   "source": [
    "Data_numerical"
   ]
  },
  {
   "cell_type": "code",
   "execution_count": 95,
   "id": "c8eb71db-aecd-45d2-b555-f253d2594834",
   "metadata": {},
   "outputs": [
    {
     "data": {
      "text/plain": [
       "carat          0\n",
       "depth          0\n",
       "table          0\n",
       "weight         0\n",
       "size           0\n",
       "price          0\n",
       "log_carat      0\n",
       "log_size       0\n",
       "log_price      0\n",
       "sqrt_table     0\n",
       "cbrt_weight    0\n",
       "cbrt_depth     0\n",
       "dtype: int64"
      ]
     },
     "execution_count": 95,
     "metadata": {},
     "output_type": "execute_result"
    }
   ],
   "source": [
    "Data_numerical.isnull().sum()"
   ]
  },
  {
   "cell_type": "code",
   "execution_count": 35,
   "id": "91ed6af9-bf0d-45c7-b7ce-d2b6f14dfe41",
   "metadata": {},
   "outputs": [
    {
     "data": {
      "text/plain": [
       "['carat', 'depth', 'table', 'weight', 'size', 'price']"
      ]
     },
     "execution_count": 35,
     "metadata": {},
     "output_type": "execute_result"
    }
   ],
   "source": [
    "num_col=[fea for fea in Data.columns if Data[fea].dtypes!='object']\n",
    "num_col"
   ]
  },
  {
   "cell_type": "code",
   "execution_count": 262,
   "id": "20a45707-b6f4-4fa2-9e34-53a2ce2fd70e",
   "metadata": {},
   "outputs": [
    {
     "name": "stdout",
     "output_type": "stream",
     "text": [
      "                                                     carat  \\\n",
      "Q1                                                     0.4   \n",
      "Q3                                                    1.04   \n",
      "IQR                                                   0.64   \n",
      "outlier  [2.06, 2.14, 2.15, 2.22, 2.01, 2.01, 2.27, 2.0...   \n",
      "\n",
      "                                                     depth  \\\n",
      "Q1                                                    61.0   \n",
      "Q3                                                    62.5   \n",
      "IQR                                                    1.5   \n",
      "outlier  [56.9, 65.1, 58.1, 58.2, 65.2, 58.4, 57.9, 55....   \n",
      "\n",
      "                                                     table  \\\n",
      "Q1                                                    56.0   \n",
      "Q3                                                    59.0   \n",
      "IQR                                                    3.0   \n",
      "outlier  [65.0, 69.0, 64.0, 64.0, 67.0, 64.0, 66.0, 70....   \n",
      "\n",
      "                                                    weight  \\\n",
      "Q1                                                    4.71   \n",
      "Q3                                                    6.54   \n",
      "IQR                                                   1.83   \n",
      "outlier  [0.0, 0.0, 0.0, 9.54, 9.38, 9.53, 9.44, 9.49, ...   \n",
      "\n",
      "                                                      size  \\\n",
      "Q1                                                    4.72   \n",
      "Q3                                                    6.54   \n",
      "IQR                                                   1.82   \n",
      "outlier  [0.0, 0.0, 9.38, 9.31, 9.48, 58.9, 9.4, 9.42, ...   \n",
      "\n",
      "                                                     price  \n",
      "Q1                                                   950.0  \n",
      "Q3                                                 5324.25  \n",
      "IQR                                                4374.25  \n",
      "outlier  [11886, 11886, 11888, 11888, 11888, 11897, 118...  \n"
     ]
    }
   ],
   "source": [
    "def outliers(Data, cols):\n",
    "    outlier_dict = {}\n",
    "    \n",
    "    for col in cols:\n",
    "        Q1 = Data[col].quantile(0.25)\n",
    "        Q3 = Data[col].quantile(0.75)\n",
    "        IQR = Q3 - Q1  \n",
    "        lower_bound = Q1 - 1.5 * IQR\n",
    "        upper_bound = Q3 + 1.5 * IQR\n",
    "\n",
    "        outlier_values = Data.loc[(Data[col] < lower_bound) | (Data[col] > upper_bound), col]\n",
    "\n",
    "        outlier_dict[col] = [Q1, Q3, IQR, outlier_values.values]  \n",
    "    \n",
    "    return outlier_dict\n",
    "\n",
    "outlier = outliers(Data, num_col)\n",
    "df = pd.DataFrame(outlier).set_index(pd.Index(['Q1', 'Q3', 'IQR', 'outlier']))\n",
    "print(df)\n",
    "      \n",
    "        \n",
    "\n",
    "      "
   ]
  },
  {
   "cell_type": "code",
   "execution_count": 268,
   "id": "bbeec5ad-585d-4c29-8624-5ce53b7675d1",
   "metadata": {},
   "outputs": [
    {
     "data": {
      "text/plain": [
       "24"
      ]
     },
     "execution_count": 268,
     "metadata": {},
     "output_type": "execute_result"
    }
   ],
   "source": [
    "df.size"
   ]
  },
  {
   "cell_type": "raw",
   "id": "9a7fcf44-03e5-421c-b379-19f97e900bce",
   "metadata": {},
   "source": [
    "F.\tConvert categorical variables into numerical variables using LabelEncoder technique."
   ]
  },
  {
   "cell_type": "code",
   "execution_count": 125,
   "id": "134cb5fa-5ff4-4738-835f-11be709bce56",
   "metadata": {},
   "outputs": [
    {
     "data": {
      "text/plain": [
       "['Fair', 'Good', 'Ideal', 'Premium', 'Very Good']"
      ]
     },
     "execution_count": 125,
     "metadata": {},
     "output_type": "execute_result"
    }
   ],
   "source": [
    "from sklearn.preprocessing import LabelEncoder\n",
    "le = LabelEncoder()\n",
    "le.fit(Data_cat['cut'])\n",
    "list(le.classes_)"
   ]
  },
  {
   "cell_type": "code",
   "execution_count": 127,
   "id": "102584aa-4a54-444c-bcd5-42366591719d",
   "metadata": {},
   "outputs": [
    {
     "data": {
      "text/plain": [
       "array([2, 3, 1, ..., 4, 3, 2])"
      ]
     },
     "execution_count": 127,
     "metadata": {},
     "output_type": "execute_result"
    }
   ],
   "source": [
    "le.transform(Data_cat['cut'])"
   ]
  },
  {
   "cell_type": "code",
   "execution_count": 129,
   "id": "6efb70f1-175c-4729-bbe3-0aed4b01f70a",
   "metadata": {},
   "outputs": [
    {
     "data": {
      "text/plain": [
       "array([1, 1, 1, ..., 0, 4, 0])"
      ]
     },
     "execution_count": 129,
     "metadata": {},
     "output_type": "execute_result"
    }
   ],
   "source": [
    "le = LabelEncoder()\n",
    "le.fit(Data_cat['color'])\n",
    "list(le.classes_)\n",
    "le.transform(Data_cat['color'])\n"
   ]
  },
  {
   "cell_type": "code",
   "execution_count": 131,
   "id": "e9065a0a-7365-4b46-b695-f656fb5811b8",
   "metadata": {},
   "outputs": [
    {
     "data": {
      "text/plain": [
       "array([3, 2, 4, ..., 2, 3, 3])"
      ]
     },
     "execution_count": 131,
     "metadata": {},
     "output_type": "execute_result"
    }
   ],
   "source": [
    "le = LabelEncoder()\n",
    "le.fit(Data_cat['clarity'])\n",
    "list(le.classes_)\n",
    "le.transform(Data_cat['clarity'])"
   ]
  },
  {
   "cell_type": "raw",
   "id": "1abc93ed-5585-4eb7-8282-62a43c81380c",
   "metadata": {},
   "source": [
    "G.\tUse both the feature scaling techniques (standardscaler/min max scaler) on all the variables."
   ]
  },
  {
   "cell_type": "code",
   "execution_count": 47,
   "id": "dd608f58-42fb-499f-a038-bc11d3510892",
   "metadata": {},
   "outputs": [
    {
     "data": {
      "text/html": [
       "<div>\n",
       "<style scoped>\n",
       "    .dataframe tbody tr th:only-of-type {\n",
       "        vertical-align: middle;\n",
       "    }\n",
       "\n",
       "    .dataframe tbody tr th {\n",
       "        vertical-align: top;\n",
       "    }\n",
       "\n",
       "    .dataframe thead th {\n",
       "        text-align: right;\n",
       "    }\n",
       "</style>\n",
       "<table border=\"1\" class=\"dataframe\">\n",
       "  <thead>\n",
       "    <tr style=\"text-align: right;\">\n",
       "      <th></th>\n",
       "      <th>carat</th>\n",
       "      <th>depth</th>\n",
       "      <th>table</th>\n",
       "      <th>weight</th>\n",
       "      <th>size</th>\n",
       "      <th>price</th>\n",
       "    </tr>\n",
       "  </thead>\n",
       "  <tbody>\n",
       "    <tr>\n",
       "      <th>0</th>\n",
       "      <td>-1.198157</td>\n",
       "      <td>-0.174090</td>\n",
       "      <td>-1.099662</td>\n",
       "      <td>-1.587823</td>\n",
       "      <td>-1.536181</td>\n",
       "      <td>-0.904087</td>\n",
       "    </tr>\n",
       "    <tr>\n",
       "      <th>1</th>\n",
       "      <td>-1.240350</td>\n",
       "      <td>-1.360726</td>\n",
       "      <td>1.585514</td>\n",
       "      <td>-1.641310</td>\n",
       "      <td>-1.658759</td>\n",
       "      <td>-0.904087</td>\n",
       "    </tr>\n",
       "    <tr>\n",
       "      <th>2</th>\n",
       "      <td>-1.198157</td>\n",
       "      <td>-3.384987</td>\n",
       "      <td>3.375631</td>\n",
       "      <td>-1.498677</td>\n",
       "      <td>-1.457382</td>\n",
       "      <td>-0.903836</td>\n",
       "    </tr>\n",
       "    <tr>\n",
       "      <th>3</th>\n",
       "      <td>-1.071577</td>\n",
       "      <td>0.454129</td>\n",
       "      <td>0.242926</td>\n",
       "      <td>-1.364959</td>\n",
       "      <td>-1.317293</td>\n",
       "      <td>-0.902081</td>\n",
       "    </tr>\n",
       "    <tr>\n",
       "      <th>4</th>\n",
       "      <td>-1.029384</td>\n",
       "      <td>1.082348</td>\n",
       "      <td>0.242926</td>\n",
       "      <td>-1.240155</td>\n",
       "      <td>-1.212227</td>\n",
       "      <td>-0.901831</td>\n",
       "    </tr>\n",
       "  </tbody>\n",
       "</table>\n",
       "</div>"
      ],
      "text/plain": [
       "      carat     depth     table    weight      size     price\n",
       "0 -1.198157 -0.174090 -1.099662 -1.587823 -1.536181 -0.904087\n",
       "1 -1.240350 -1.360726  1.585514 -1.641310 -1.658759 -0.904087\n",
       "2 -1.198157 -3.384987  3.375631 -1.498677 -1.457382 -0.903836\n",
       "3 -1.071577  0.454129  0.242926 -1.364959 -1.317293 -0.902081\n",
       "4 -1.029384  1.082348  0.242926 -1.240155 -1.212227 -0.901831"
      ]
     },
     "execution_count": 47,
     "metadata": {},
     "output_type": "execute_result"
    }
   ],
   "source": [
    "Data_standard = (Data_numerical - Data_numerical.mean())/Data_numerical.std()\n",
    "Data_standard.head()"
   ]
  },
  {
   "cell_type": "code",
   "execution_count": 41,
   "id": "cd7b0218-8179-4ba2-b368-9c935fb0825f",
   "metadata": {},
   "outputs": [
    {
     "data": {
      "text/plain": [
       "array([[-1.19816781, -0.17409151, -1.09967199, -1.58783745, -1.53619556,\n",
       "        -0.90409516],\n",
       "       [-1.24036129, -1.36073849,  1.58552871, -1.64132529, -1.65877419,\n",
       "        -0.90409516],\n",
       "       [-1.19816781, -3.38501862,  3.37566251, -1.49869105, -1.45739502,\n",
       "        -0.9038445 ],\n",
       "       ...,\n",
       "       [-0.20662095,  0.73334442,  1.13799526, -0.06343409, -0.04774083,\n",
       "        -0.29473076],\n",
       "       [ 0.13092691, -0.52310533,  0.24292836,  0.37338325,  0.33750627,\n",
       "        -0.29473076],\n",
       "       [-0.10113725,  0.31452784, -1.09967199,  0.08811478,  0.11861587,\n",
       "        -0.29473076]])"
      ]
     },
     "execution_count": 41,
     "metadata": {},
     "output_type": "execute_result"
    }
   ],
   "source": [
    "from sklearn.preprocessing import StandardScaler\n",
    "scaler = StandardScaler()\n",
    "scaled_Data = scaler.fit_transform(Data_numerical)\n",
    "scaled_Data"
   ]
  },
  {
   "cell_type": "code",
   "execution_count": 43,
   "id": "b5887696-e8ed-4001-86ee-a2bcec74a2e9",
   "metadata": {},
   "outputs": [
    {
     "data": {
      "text/html": [
       "<div>\n",
       "<style scoped>\n",
       "    .dataframe tbody tr th:only-of-type {\n",
       "        vertical-align: middle;\n",
       "    }\n",
       "\n",
       "    .dataframe tbody tr th {\n",
       "        vertical-align: top;\n",
       "    }\n",
       "\n",
       "    .dataframe thead th {\n",
       "        text-align: right;\n",
       "    }\n",
       "</style>\n",
       "<table border=\"1\" class=\"dataframe\">\n",
       "  <thead>\n",
       "    <tr style=\"text-align: right;\">\n",
       "      <th></th>\n",
       "      <th>carat</th>\n",
       "      <th>depth</th>\n",
       "      <th>table</th>\n",
       "      <th>weight</th>\n",
       "      <th>size</th>\n",
       "      <th>price</th>\n",
       "    </tr>\n",
       "  </thead>\n",
       "  <tbody>\n",
       "    <tr>\n",
       "      <th>0</th>\n",
       "      <td>-1.198168</td>\n",
       "      <td>-0.174092</td>\n",
       "      <td>-1.099672</td>\n",
       "      <td>-1.587837</td>\n",
       "      <td>-1.536196</td>\n",
       "      <td>-0.904095</td>\n",
       "    </tr>\n",
       "    <tr>\n",
       "      <th>1</th>\n",
       "      <td>-1.240361</td>\n",
       "      <td>-1.360738</td>\n",
       "      <td>1.585529</td>\n",
       "      <td>-1.641325</td>\n",
       "      <td>-1.658774</td>\n",
       "      <td>-0.904095</td>\n",
       "    </tr>\n",
       "    <tr>\n",
       "      <th>2</th>\n",
       "      <td>-1.198168</td>\n",
       "      <td>-3.385019</td>\n",
       "      <td>3.375663</td>\n",
       "      <td>-1.498691</td>\n",
       "      <td>-1.457395</td>\n",
       "      <td>-0.903844</td>\n",
       "    </tr>\n",
       "    <tr>\n",
       "      <th>3</th>\n",
       "      <td>-1.071587</td>\n",
       "      <td>0.454133</td>\n",
       "      <td>0.242928</td>\n",
       "      <td>-1.364971</td>\n",
       "      <td>-1.317305</td>\n",
       "      <td>-0.902090</td>\n",
       "    </tr>\n",
       "    <tr>\n",
       "      <th>4</th>\n",
       "      <td>-1.029394</td>\n",
       "      <td>1.082358</td>\n",
       "      <td>0.242928</td>\n",
       "      <td>-1.240167</td>\n",
       "      <td>-1.212238</td>\n",
       "      <td>-0.901839</td>\n",
       "    </tr>\n",
       "    <tr>\n",
       "      <th>...</th>\n",
       "      <td>...</td>\n",
       "      <td>...</td>\n",
       "      <td>...</td>\n",
       "      <td>...</td>\n",
       "      <td>...</td>\n",
       "      <td>...</td>\n",
       "    </tr>\n",
       "    <tr>\n",
       "      <th>53935</th>\n",
       "      <td>-0.164427</td>\n",
       "      <td>-0.662711</td>\n",
       "      <td>-0.204605</td>\n",
       "      <td>0.016798</td>\n",
       "      <td>0.022304</td>\n",
       "      <td>-0.294731</td>\n",
       "    </tr>\n",
       "    <tr>\n",
       "      <th>53936</th>\n",
       "      <td>-0.164427</td>\n",
       "      <td>0.942753</td>\n",
       "      <td>-1.099672</td>\n",
       "      <td>-0.036690</td>\n",
       "      <td>0.013548</td>\n",
       "      <td>-0.294731</td>\n",
       "    </tr>\n",
       "    <tr>\n",
       "      <th>53937</th>\n",
       "      <td>-0.206621</td>\n",
       "      <td>0.733344</td>\n",
       "      <td>1.137995</td>\n",
       "      <td>-0.063434</td>\n",
       "      <td>-0.047741</td>\n",
       "      <td>-0.294731</td>\n",
       "    </tr>\n",
       "    <tr>\n",
       "      <th>53938</th>\n",
       "      <td>0.130927</td>\n",
       "      <td>-0.523105</td>\n",
       "      <td>0.242928</td>\n",
       "      <td>0.373383</td>\n",
       "      <td>0.337506</td>\n",
       "      <td>-0.294731</td>\n",
       "    </tr>\n",
       "    <tr>\n",
       "      <th>53939</th>\n",
       "      <td>-0.101137</td>\n",
       "      <td>0.314528</td>\n",
       "      <td>-1.099672</td>\n",
       "      <td>0.088115</td>\n",
       "      <td>0.118616</td>\n",
       "      <td>-0.294731</td>\n",
       "    </tr>\n",
       "  </tbody>\n",
       "</table>\n",
       "<p>53940 rows × 6 columns</p>\n",
       "</div>"
      ],
      "text/plain": [
       "          carat     depth     table    weight      size     price\n",
       "0     -1.198168 -0.174092 -1.099672 -1.587837 -1.536196 -0.904095\n",
       "1     -1.240361 -1.360738  1.585529 -1.641325 -1.658774 -0.904095\n",
       "2     -1.198168 -3.385019  3.375663 -1.498691 -1.457395 -0.903844\n",
       "3     -1.071587  0.454133  0.242928 -1.364971 -1.317305 -0.902090\n",
       "4     -1.029394  1.082358  0.242928 -1.240167 -1.212238 -0.901839\n",
       "...         ...       ...       ...       ...       ...       ...\n",
       "53935 -0.164427 -0.662711 -0.204605  0.016798  0.022304 -0.294731\n",
       "53936 -0.164427  0.942753 -1.099672 -0.036690  0.013548 -0.294731\n",
       "53937 -0.206621  0.733344  1.137995 -0.063434 -0.047741 -0.294731\n",
       "53938  0.130927 -0.523105  0.242928  0.373383  0.337506 -0.294731\n",
       "53939 -0.101137  0.314528 -1.099672  0.088115  0.118616 -0.294731\n",
       "\n",
       "[53940 rows x 6 columns]"
      ]
     },
     "execution_count": 43,
     "metadata": {},
     "output_type": "execute_result"
    }
   ],
   "source": [
    "scaled_Data = pd.DataFrame(scaled_Data, columns=Data_numerical.columns)\n",
    "scaled_Data"
   ]
  },
  {
   "cell_type": "code",
   "execution_count": 49,
   "id": "34c06d67-637f-424f-a155-b858e1e60657",
   "metadata": {},
   "outputs": [
    {
     "data": {
      "text/plain": [
       "carat     0.0\n",
       "depth    -0.0\n",
       "table     0.0\n",
       "weight    0.0\n",
       "size     -0.0\n",
       "price    -0.0\n",
       "dtype: float64"
      ]
     },
     "execution_count": 49,
     "metadata": {},
     "output_type": "execute_result"
    }
   ],
   "source": [
    "round(Data_standard.mean())"
   ]
  },
  {
   "cell_type": "code",
   "execution_count": 51,
   "id": "59f6f1c6-9779-4597-ada1-3a835ea250e8",
   "metadata": {},
   "outputs": [
    {
     "data": {
      "text/plain": [
       "carat     1.0\n",
       "depth     1.0\n",
       "table     1.0\n",
       "weight    1.0\n",
       "size      1.0\n",
       "price     1.0\n",
       "dtype: float64"
      ]
     },
     "execution_count": 51,
     "metadata": {},
     "output_type": "execute_result"
    }
   ],
   "source": [
    "Data_standard.std()"
   ]
  },
  {
   "cell_type": "code",
   "execution_count": 53,
   "id": "3e529847-6ca5-4a95-8eb9-63226a6cb436",
   "metadata": {},
   "outputs": [
    {
     "data": {
      "text/html": [
       "<div>\n",
       "<style scoped>\n",
       "    .dataframe tbody tr th:only-of-type {\n",
       "        vertical-align: middle;\n",
       "    }\n",
       "\n",
       "    .dataframe tbody tr th {\n",
       "        vertical-align: top;\n",
       "    }\n",
       "\n",
       "    .dataframe thead th {\n",
       "        text-align: right;\n",
       "    }\n",
       "</style>\n",
       "<table border=\"1\" class=\"dataframe\">\n",
       "  <thead>\n",
       "    <tr style=\"text-align: right;\">\n",
       "      <th></th>\n",
       "      <th>carat</th>\n",
       "      <th>depth</th>\n",
       "      <th>table</th>\n",
       "      <th>weight</th>\n",
       "      <th>size</th>\n",
       "      <th>price</th>\n",
       "    </tr>\n",
       "  </thead>\n",
       "  <tbody>\n",
       "    <tr>\n",
       "      <th>0</th>\n",
       "      <td>0.23</td>\n",
       "      <td>61.5</td>\n",
       "      <td>55.0</td>\n",
       "      <td>3.95</td>\n",
       "      <td>3.98</td>\n",
       "      <td>326</td>\n",
       "    </tr>\n",
       "    <tr>\n",
       "      <th>1</th>\n",
       "      <td>0.21</td>\n",
       "      <td>59.8</td>\n",
       "      <td>61.0</td>\n",
       "      <td>3.89</td>\n",
       "      <td>3.84</td>\n",
       "      <td>326</td>\n",
       "    </tr>\n",
       "    <tr>\n",
       "      <th>2</th>\n",
       "      <td>0.23</td>\n",
       "      <td>56.9</td>\n",
       "      <td>65.0</td>\n",
       "      <td>4.05</td>\n",
       "      <td>4.07</td>\n",
       "      <td>327</td>\n",
       "    </tr>\n",
       "    <tr>\n",
       "      <th>3</th>\n",
       "      <td>0.29</td>\n",
       "      <td>62.4</td>\n",
       "      <td>58.0</td>\n",
       "      <td>4.20</td>\n",
       "      <td>4.23</td>\n",
       "      <td>334</td>\n",
       "    </tr>\n",
       "    <tr>\n",
       "      <th>4</th>\n",
       "      <td>0.31</td>\n",
       "      <td>63.3</td>\n",
       "      <td>58.0</td>\n",
       "      <td>4.34</td>\n",
       "      <td>4.35</td>\n",
       "      <td>335</td>\n",
       "    </tr>\n",
       "  </tbody>\n",
       "</table>\n",
       "</div>"
      ],
      "text/plain": [
       "   carat  depth  table  weight  size  price\n",
       "0   0.23   61.5   55.0    3.95  3.98    326\n",
       "1   0.21   59.8   61.0    3.89  3.84    326\n",
       "2   0.23   56.9   65.0    4.05  4.07    327\n",
       "3   0.29   62.4   58.0    4.20  4.23    334\n",
       "4   0.31   63.3   58.0    4.34  4.35    335"
      ]
     },
     "execution_count": 53,
     "metadata": {},
     "output_type": "execute_result"
    }
   ],
   "source": [
    "Data_numerical.head()"
   ]
  },
  {
   "cell_type": "code",
   "execution_count": 55,
   "id": "49865988-2d97-42bb-a5d7-c87bcb0146f7",
   "metadata": {},
   "outputs": [
    {
     "data": {
      "text/html": [
       "<div>\n",
       "<style scoped>\n",
       "    .dataframe tbody tr th:only-of-type {\n",
       "        vertical-align: middle;\n",
       "    }\n",
       "\n",
       "    .dataframe tbody tr th {\n",
       "        vertical-align: top;\n",
       "    }\n",
       "\n",
       "    .dataframe thead th {\n",
       "        text-align: right;\n",
       "    }\n",
       "</style>\n",
       "<table border=\"1\" class=\"dataframe\">\n",
       "  <thead>\n",
       "    <tr style=\"text-align: right;\">\n",
       "      <th></th>\n",
       "      <th>carat</th>\n",
       "      <th>depth</th>\n",
       "      <th>table</th>\n",
       "      <th>weight</th>\n",
       "      <th>size</th>\n",
       "      <th>price</th>\n",
       "    </tr>\n",
       "  </thead>\n",
       "  <tbody>\n",
       "    <tr>\n",
       "      <th>0</th>\n",
       "      <td>0.006237</td>\n",
       "      <td>0.513889</td>\n",
       "      <td>0.230769</td>\n",
       "      <td>0.367784</td>\n",
       "      <td>0.067572</td>\n",
       "      <td>0.000000</td>\n",
       "    </tr>\n",
       "    <tr>\n",
       "      <th>1</th>\n",
       "      <td>0.002079</td>\n",
       "      <td>0.466667</td>\n",
       "      <td>0.346154</td>\n",
       "      <td>0.362197</td>\n",
       "      <td>0.065195</td>\n",
       "      <td>0.000000</td>\n",
       "    </tr>\n",
       "    <tr>\n",
       "      <th>2</th>\n",
       "      <td>0.006237</td>\n",
       "      <td>0.386111</td>\n",
       "      <td>0.423077</td>\n",
       "      <td>0.377095</td>\n",
       "      <td>0.069100</td>\n",
       "      <td>0.000054</td>\n",
       "    </tr>\n",
       "    <tr>\n",
       "      <th>3</th>\n",
       "      <td>0.018711</td>\n",
       "      <td>0.538889</td>\n",
       "      <td>0.288462</td>\n",
       "      <td>0.391061</td>\n",
       "      <td>0.071817</td>\n",
       "      <td>0.000433</td>\n",
       "    </tr>\n",
       "    <tr>\n",
       "      <th>4</th>\n",
       "      <td>0.022869</td>\n",
       "      <td>0.563889</td>\n",
       "      <td>0.288462</td>\n",
       "      <td>0.404097</td>\n",
       "      <td>0.073854</td>\n",
       "      <td>0.000487</td>\n",
       "    </tr>\n",
       "  </tbody>\n",
       "</table>\n",
       "</div>"
      ],
      "text/plain": [
       "      carat     depth     table    weight      size     price\n",
       "0  0.006237  0.513889  0.230769  0.367784  0.067572  0.000000\n",
       "1  0.002079  0.466667  0.346154  0.362197  0.065195  0.000000\n",
       "2  0.006237  0.386111  0.423077  0.377095  0.069100  0.000054\n",
       "3  0.018711  0.538889  0.288462  0.391061  0.071817  0.000433\n",
       "4  0.022869  0.563889  0.288462  0.404097  0.073854  0.000487"
      ]
     },
     "execution_count": 55,
     "metadata": {},
     "output_type": "execute_result"
    }
   ],
   "source": [
    "Data_normal = (Data_numerical - Data_numerical.min())/(Data_numerical.max() - Data_numerical.min())\n",
    "Data_normal.head()"
   ]
  },
  {
   "cell_type": "code",
   "execution_count": 57,
   "id": "d78b8ec5-c50b-46d9-b029-a9e7c757b44b",
   "metadata": {},
   "outputs": [
    {
     "data": {
      "text/plain": [
       "array([[6.23700624e-03, 5.13888889e-01, 2.30769231e-01, 3.67783985e-01,\n",
       "        6.75721562e-02, 0.00000000e+00],\n",
       "       [2.07900208e-03, 4.66666667e-01, 3.46153846e-01, 3.62197393e-01,\n",
       "        6.51952462e-02, 0.00000000e+00],\n",
       "       [6.23700624e-03, 3.86111111e-01, 4.23076923e-01, 3.77094972e-01,\n",
       "        6.91001698e-02, 5.40628210e-05],\n",
       "       ...,\n",
       "       [1.03950104e-01, 5.50000000e-01, 3.26923077e-01, 5.27001862e-01,\n",
       "        9.64346350e-02, 1.31426718e-01],\n",
       "       [1.37214137e-01, 5.00000000e-01, 2.88461538e-01, 5.72625698e-01,\n",
       "        1.03904924e-01, 1.31426718e-01],\n",
       "       [1.14345114e-01, 5.33333333e-01, 2.30769231e-01, 5.42830540e-01,\n",
       "        9.96604414e-02, 1.31426718e-01]])"
      ]
     },
     "execution_count": 57,
     "metadata": {},
     "output_type": "execute_result"
    }
   ],
   "source": [
    "import pandas as pd\n",
    "from sklearn.preprocessing import MinMaxScaler\n",
    "scaler=MinMaxScaler()\n",
    "Data_minmax = scaler.fit_transform(Data_numerical)\n",
    "Data_minmax"
   ]
  },
  {
   "cell_type": "code",
   "execution_count": 59,
   "id": "3253d836-2fe2-4251-b7df-c022bfdc7cce",
   "metadata": {},
   "outputs": [
    {
     "data": {
      "text/html": [
       "<div>\n",
       "<style scoped>\n",
       "    .dataframe tbody tr th:only-of-type {\n",
       "        vertical-align: middle;\n",
       "    }\n",
       "\n",
       "    .dataframe tbody tr th {\n",
       "        vertical-align: top;\n",
       "    }\n",
       "\n",
       "    .dataframe thead th {\n",
       "        text-align: right;\n",
       "    }\n",
       "</style>\n",
       "<table border=\"1\" class=\"dataframe\">\n",
       "  <thead>\n",
       "    <tr style=\"text-align: right;\">\n",
       "      <th></th>\n",
       "      <th>carat</th>\n",
       "      <th>depth</th>\n",
       "      <th>table</th>\n",
       "      <th>weight</th>\n",
       "      <th>size</th>\n",
       "      <th>price</th>\n",
       "    </tr>\n",
       "  </thead>\n",
       "  <tbody>\n",
       "    <tr>\n",
       "      <th>0</th>\n",
       "      <td>0.006237</td>\n",
       "      <td>0.513889</td>\n",
       "      <td>0.230769</td>\n",
       "      <td>0.367784</td>\n",
       "      <td>0.067572</td>\n",
       "      <td>0.000000</td>\n",
       "    </tr>\n",
       "    <tr>\n",
       "      <th>1</th>\n",
       "      <td>0.002079</td>\n",
       "      <td>0.466667</td>\n",
       "      <td>0.346154</td>\n",
       "      <td>0.362197</td>\n",
       "      <td>0.065195</td>\n",
       "      <td>0.000000</td>\n",
       "    </tr>\n",
       "    <tr>\n",
       "      <th>2</th>\n",
       "      <td>0.006237</td>\n",
       "      <td>0.386111</td>\n",
       "      <td>0.423077</td>\n",
       "      <td>0.377095</td>\n",
       "      <td>0.069100</td>\n",
       "      <td>0.000054</td>\n",
       "    </tr>\n",
       "    <tr>\n",
       "      <th>3</th>\n",
       "      <td>0.018711</td>\n",
       "      <td>0.538889</td>\n",
       "      <td>0.288462</td>\n",
       "      <td>0.391061</td>\n",
       "      <td>0.071817</td>\n",
       "      <td>0.000433</td>\n",
       "    </tr>\n",
       "    <tr>\n",
       "      <th>4</th>\n",
       "      <td>0.022869</td>\n",
       "      <td>0.563889</td>\n",
       "      <td>0.288462</td>\n",
       "      <td>0.404097</td>\n",
       "      <td>0.073854</td>\n",
       "      <td>0.000487</td>\n",
       "    </tr>\n",
       "    <tr>\n",
       "      <th>...</th>\n",
       "      <td>...</td>\n",
       "      <td>...</td>\n",
       "      <td>...</td>\n",
       "      <td>...</td>\n",
       "      <td>...</td>\n",
       "      <td>...</td>\n",
       "    </tr>\n",
       "    <tr>\n",
       "      <th>53935</th>\n",
       "      <td>0.108108</td>\n",
       "      <td>0.494444</td>\n",
       "      <td>0.269231</td>\n",
       "      <td>0.535382</td>\n",
       "      <td>0.097793</td>\n",
       "      <td>0.131427</td>\n",
       "    </tr>\n",
       "    <tr>\n",
       "      <th>53936</th>\n",
       "      <td>0.108108</td>\n",
       "      <td>0.558333</td>\n",
       "      <td>0.230769</td>\n",
       "      <td>0.529795</td>\n",
       "      <td>0.097623</td>\n",
       "      <td>0.131427</td>\n",
       "    </tr>\n",
       "    <tr>\n",
       "      <th>53937</th>\n",
       "      <td>0.103950</td>\n",
       "      <td>0.550000</td>\n",
       "      <td>0.326923</td>\n",
       "      <td>0.527002</td>\n",
       "      <td>0.096435</td>\n",
       "      <td>0.131427</td>\n",
       "    </tr>\n",
       "    <tr>\n",
       "      <th>53938</th>\n",
       "      <td>0.137214</td>\n",
       "      <td>0.500000</td>\n",
       "      <td>0.288462</td>\n",
       "      <td>0.572626</td>\n",
       "      <td>0.103905</td>\n",
       "      <td>0.131427</td>\n",
       "    </tr>\n",
       "    <tr>\n",
       "      <th>53939</th>\n",
       "      <td>0.114345</td>\n",
       "      <td>0.533333</td>\n",
       "      <td>0.230769</td>\n",
       "      <td>0.542831</td>\n",
       "      <td>0.099660</td>\n",
       "      <td>0.131427</td>\n",
       "    </tr>\n",
       "  </tbody>\n",
       "</table>\n",
       "<p>53940 rows × 6 columns</p>\n",
       "</div>"
      ],
      "text/plain": [
       "          carat     depth     table    weight      size     price\n",
       "0      0.006237  0.513889  0.230769  0.367784  0.067572  0.000000\n",
       "1      0.002079  0.466667  0.346154  0.362197  0.065195  0.000000\n",
       "2      0.006237  0.386111  0.423077  0.377095  0.069100  0.000054\n",
       "3      0.018711  0.538889  0.288462  0.391061  0.071817  0.000433\n",
       "4      0.022869  0.563889  0.288462  0.404097  0.073854  0.000487\n",
       "...         ...       ...       ...       ...       ...       ...\n",
       "53935  0.108108  0.494444  0.269231  0.535382  0.097793  0.131427\n",
       "53936  0.108108  0.558333  0.230769  0.529795  0.097623  0.131427\n",
       "53937  0.103950  0.550000  0.326923  0.527002  0.096435  0.131427\n",
       "53938  0.137214  0.500000  0.288462  0.572626  0.103905  0.131427\n",
       "53939  0.114345  0.533333  0.230769  0.542831  0.099660  0.131427\n",
       "\n",
       "[53940 rows x 6 columns]"
      ]
     },
     "execution_count": 59,
     "metadata": {},
     "output_type": "execute_result"
    }
   ],
   "source": [
    "Data_normal_minmax = pd.DataFrame(Data_minmax, columns=Data_numerical.columns)\n",
    "Data_normal_minmax"
   ]
  },
  {
   "cell_type": "code",
   "execution_count": 61,
   "id": "473587bc-bb31-40c1-aae2-7b617d691a65",
   "metadata": {},
   "outputs": [
    {
     "data": {
      "text/plain": [
       "carat     0.0\n",
       "depth     0.0\n",
       "table     0.0\n",
       "weight    0.0\n",
       "size      0.0\n",
       "price     0.0\n",
       "dtype: float64"
      ]
     },
     "execution_count": 61,
     "metadata": {},
     "output_type": "execute_result"
    }
   ],
   "source": [
    "Data_normal.min()"
   ]
  },
  {
   "cell_type": "code",
   "execution_count": 63,
   "id": "c3a8eb74-9ee5-4152-a4d1-f4acee87bd69",
   "metadata": {},
   "outputs": [
    {
     "data": {
      "text/plain": [
       "carat     1.0\n",
       "depth     1.0\n",
       "table     1.0\n",
       "weight    1.0\n",
       "size      1.0\n",
       "price     1.0\n",
       "dtype: float64"
      ]
     },
     "execution_count": 63,
     "metadata": {},
     "output_type": "execute_result"
    }
   ],
   "source": [
    "Data_normal.max()"
   ]
  },
  {
   "cell_type": "code",
   "execution_count": 65,
   "id": "e63c7396-12de-4a19-a1a6-d9066cbfbfd8",
   "metadata": {},
   "outputs": [
    {
     "data": {
      "text/plain": [
       "carat     0.124312\n",
       "depth     0.520817\n",
       "table     0.278023\n",
       "weight    0.533627\n",
       "size      0.097360\n",
       "price     0.194994\n",
       "dtype: float64"
      ]
     },
     "execution_count": 65,
     "metadata": {},
     "output_type": "execute_result"
    }
   ],
   "source": [
    "Data_normal.mean()"
   ]
  },
  {
   "cell_type": "code",
   "execution_count": 67,
   "id": "aba9ab2a-b285-41bb-865b-a657b0656e4b",
   "metadata": {},
   "outputs": [
    {
     "data": {
      "text/plain": [
       "carat     0.098547\n",
       "depth     0.039795\n",
       "table     0.042971\n",
       "weight    0.104447\n",
       "size      0.019391\n",
       "price     0.215680\n",
       "dtype: float64"
      ]
     },
     "execution_count": 67,
     "metadata": {},
     "output_type": "execute_result"
    }
   ],
   "source": [
    "Data_normal.std()"
   ]
  },
  {
   "cell_type": "raw",
   "id": "d1d95b00-ece4-4fe8-8f7d-3b1435534a25",
   "metadata": {},
   "source": [
    "H.\tCreate the Histogram for all numeric variables and draw the KDE plot on that."
   ]
  },
  {
   "cell_type": "code",
   "execution_count": 87,
   "id": "d4779cee-d019-43cc-a1fc-e5dfe6ce0071",
   "metadata": {},
   "outputs": [
    {
     "data": {
      "image/png": "[encoded data removed]",
      "text/plain": [
       "<Figure size 800x500 with 1 Axes>"
      ]
     },
     "metadata": {},
     "output_type": "display_data"
    }
   ],
   "source": [
    "sns.histplot(Data_numerical['carat'], kde=True)\n",
    "plt.title('Distribution of Carat')\n",
    "plt.xlabel('Carat')\n",
    "plt.ylabel('Frequency')\n",
    "plt.show()"
   ]
  },
  {
   "cell_type": "code",
   "execution_count": 75,
   "id": "f83fc269-a90f-4b8b-ba0c-69735641d024",
   "metadata": {},
   "outputs": [
    {
     "data": {
      "text/plain": [
       "<Axes: xlabel='depth', ylabel='Count'>"
      ]
     },
     "execution_count": 75,
     "metadata": {},
     "output_type": "execute_result"
    },
    {
     "data": {
      "image/png": "[encoded data removed]",
      "text/plain": [
       "<Figure size 800x500 with 1 Axes>"
      ]
     },
     "metadata": {},
     "output_type": "display_data"
    }
   ],
   "source": [
    "sns.set(rc={'figure.figsize':(8,5)})\n",
    "sns.histplot(Data_numerical['depth'], kde=True)"
   ]
  },
  {
   "cell_type": "code",
   "execution_count": 77,
   "id": "d1cb5009-2ceb-4425-84b6-256263b40dda",
   "metadata": {},
   "outputs": [
    {
     "data": {
      "text/plain": [
       "<Axes: xlabel='table', ylabel='Count'>"
      ]
     },
     "execution_count": 77,
     "metadata": {},
     "output_type": "execute_result"
    },
    {
     "data": {
      "image/png": "[encoded data removed]",
      "text/plain": [
       "<Figure size 800x500 with 1 Axes>"
      ]
     },
     "metadata": {},
     "output_type": "display_data"
    }
   ],
   "source": [
    "sns.set(rc={'figure.figsize':(8,5)})\n",
    "sns.histplot(Data_numerical['table'], kde=True)"
   ]
  },
  {
   "cell_type": "code",
   "execution_count": 79,
   "id": "9f0f9420-2b61-46fc-9ac8-9380b3fd539d",
   "metadata": {},
   "outputs": [
    {
     "data": {
      "text/plain": [
       "<Axes: xlabel='weight', ylabel='Count'>"
      ]
     },
     "execution_count": 79,
     "metadata": {},
     "output_type": "execute_result"
    },
    {
     "data": {
      "image/png": "[encoded data removed]",
      "text/plain": [
       "<Figure size 800x500 with 1 Axes>"
      ]
     },
     "metadata": {},
     "output_type": "display_data"
    }
   ],
   "source": [
    "sns.set(rc={'figure.figsize':(8,5)})\n",
    "sns.histplot(Data_numerical['weight'], kde=True)"
   ]
  },
  {
   "cell_type": "code",
   "execution_count": 81,
   "id": "e00a3797-962e-4f56-af19-38be37f7d0ea",
   "metadata": {},
   "outputs": [
    {
     "data": {
      "text/plain": [
       "<Axes: xlabel='size', ylabel='Count'>"
      ]
     },
     "execution_count": 81,
     "metadata": {},
     "output_type": "execute_result"
    },
    {
     "data": {
      "image/png": "[encoded data removed]",
      "text/plain": [
       "<Figure size 800x500 with 1 Axes>"
      ]
     },
     "metadata": {},
     "output_type": "display_data"
    }
   ],
   "source": [
    "sns.set(rc={'figure.figsize':(8,5)})\n",
    "sns.histplot(Data_numerical['size'], kde=True)"
   ]
  },
  {
   "cell_type": "code",
   "execution_count": 83,
   "id": "5e11a5bb-c798-4653-ba64-7d2d0ff95d31",
   "metadata": {},
   "outputs": [
    {
     "data": {
      "text/plain": [
       "<Axes: xlabel='price', ylabel='Count'>"
      ]
     },
     "execution_count": 83,
     "metadata": {},
     "output_type": "execute_result"
    },
    {
     "data": {
      "image/png": "[encoded data removed]",
      "text/plain": [
       "<Figure size 800x500 with 1 Axes>"
      ]
     },
     "metadata": {},
     "output_type": "display_data"
    }
   ],
   "source": [
    "sns.set(rc={'figure.figsize':(8,5)})\n",
    "sns.histplot(Data_numerical['price'], kde=True)"
   ]
  },
  {
   "cell_type": "code",
   "execution_count": null,
   "id": "596302fb-d8ab-4f1f-9a47-26785064dd73",
   "metadata": {},
   "outputs": [],
   "source": []
  },
  {
   "cell_type": "raw",
   "id": "e4eada02-0cb9-453a-b5b4-52bf2337ad43",
   "metadata": {},
   "source": [
    "I.\tCheck the correlation between all the numeric variables using HeatMap and try to draw some conclusion about the data."
   ]
  },
  {
   "cell_type": "code",
   "execution_count": 329,
   "id": "2d7a6bd1-69fb-41fe-9067-d38a65400b0c",
   "metadata": {},
   "outputs": [
    {
     "data": {
      "text/plain": [
       "<Axes: >"
      ]
     },
     "execution_count": 329,
     "metadata": {},
     "output_type": "execute_result"
    },
    {
     "data": {
      "image/png": "[encoded data removed]",
      "text/plain": [
       "<Figure size 600x400 with 2 Axes>"
      ]
     },
     "metadata": {},
     "output_type": "display_data"
    }
   ],
   "source": [
    "plt.figure(figsize=(6,4))\n",
    "sns.heatmap(Data_numerical.corr(),cmap=\"YlOrBr\")"
   ]
  },
  {
   "cell_type": "markdown",
   "id": "2e5cfdfb-a0ce-4b77-9bbd-0b90962ee280",
   "metadata": {},
   "source": [
    "### Conclusion : carat has a good correlation with weight,size,price\n",
    "### weight and size with table has moderate correlation\n",
    "### table and depth have no correlation."
   ]
  },
  {
   "cell_type": "raw",
   "id": "a0c5c076-f51f-4882-b3bc-b0b4a15215d3",
   "metadata": {},
   "source": [
    "Q2. Explain Gradient descent in detail. How changing the values of learning rate can impact the convergence in Gradient Descent."
   ]
  },
  {
   "cell_type": "raw",
   "id": "4fed57bb-b6d5-463e-8ace-c39dd90f551f",
   "metadata": {},
   "source": [
    "Gradient descent is an iterative optimization algorithm used to find the minimum of a function, commonly employed in machine learning to minimize the cost function. It works by taking steps in the opposite direction of the gradient (the direction of steepest ascent) of the function, gradually moving towards the minimum point.The learning rate, a crucial hyperparameter, controls the step size during each iteration, significantly impacting the algorithm's convergence speed and stability.\n",
    "The learning rate (α) is a hyperparameter that determines how big a step Gradient Descent takes toward minimizing the loss function at each iteration.\n",
    "How it works:\n",
    "1. Initialization:\n",
    "Start with an initial set of parameter values (e.g., weights and biases in a neural network). \n",
    "2. Gradient Calculation:\n",
    "Compute the gradient of the function with respect to each parameter. The gradient indicates the direction of the steepest increase of the function. \n",
    "3. Parameter Update:\n",
    "Update the parameters by moving them in the opposite direction of the gradient, scaled by a learning rate. The learning rate controls the step size of each update. \n",
    "4. Iteration:\n",
    "Repeat steps 2 and 3 until the parameters converge to a minimum or a specified number of iterations is reached. "
   ]
  },
  {
   "cell_type": "code",
   "execution_count": null,
   "id": "2465063f-1621-464d-8d31-f436457c2d47",
   "metadata": {},
   "outputs": [],
   "source": [
    "Learning Rate\tSpeed\t           Stability\t       Risk\n",
    "Too small\t    Slow\t                High\tUnderfitting\n",
    "Optimal         Fast\t                High\t         Low\n",
    "Too large\t    Fast (initially)        Low\tOvershooting / Divergence"
   ]
  }
 ],
 "metadata": {
  "kernelspec": {
   "display_name": "Python [conda env:base] *",
   "language": "python",
   "name": "conda-base-py"
  },
  "language_info": {
   "codemirror_mode": {
    "name": "ipython",
    "version": 3
   },
   "file_extension": ".py",
   "mimetype": "text/x-python",
   "name": "python",
   "nbconvert_exporter": "python",
   "pygments_lexer": "ipython3",
   "version": "3.12.7"
  }
 },
 "nbformat": 4,
 "nbformat_minor": 5
}
